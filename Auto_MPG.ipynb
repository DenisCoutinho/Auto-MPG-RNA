{
  "nbformat": 4,
  "nbformat_minor": 0,
  "metadata": {
    "colab": {
      "provenance": [],
      "toc_visible": true,
      "mount_file_id": "1VzoqP7Dl26ydMoDEK_Iae2nCdbdS8t9B",
      "authorship_tag": "ABX9TyNqZEXoqzBDEr9lvF15UyQP",
      "include_colab_link": true
    },
    "kernelspec": {
      "name": "python3",
      "display_name": "Python 3"
    },
    "language_info": {
      "name": "python"
    }
  },
  "cells": [
    {
      "cell_type": "markdown",
      "metadata": {
        "id": "view-in-github",
        "colab_type": "text"
      },
      "source": [
        "<a href=\"https://colab.research.google.com/github/DenisCoutinho/Auto_MPG_RNA/blob/main/Auto_MPG.ipynb\" target=\"_parent\"><img src=\"https://colab.research.google.com/assets/colab-badge.svg\" alt=\"Open In Colab\"/></a>"
      ]
    },
    {
      "cell_type": "markdown",
      "source": [
        "![mpg.jpg](data:image/jpeg;base64,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)"
      ],
      "metadata": {
        "id": "s_CB-QpCuCyV"
      }
    },
    {
      "cell_type": "markdown",
      "source": [
        "# Preâmbulo"
      ],
      "metadata": {
        "id": "diVd00vpuPiN"
      }
    },
    {
      "cell_type": "code",
      "source": [
        "# Importaremos as bibliotecas básicas\n",
        "import pandas as pd\n",
        "import numpy as np"
      ],
      "metadata": {
        "id": "R5N5zkotuHbc"
      },
      "execution_count": 58,
      "outputs": []
    },
    {
      "cell_type": "code",
      "source": [
        "# Geração de gráficos\n",
        "import matplotlib.pyplot as plt"
      ],
      "metadata": {
        "id": "sOCSNgS1uZ8U"
      },
      "execution_count": 59,
      "outputs": []
    },
    {
      "cell_type": "code",
      "source": [
        "# Bibliotecas específicas para o aprendizado de máquina\n",
        "from sklearn.preprocessing import StandardScaler\n",
        "from sklearn.model_selection import train_test_split\n",
        "from sklearn.metrics import r2_score\n",
        "from sklearn.linear_model import SGDRegressor \n",
        "from sklearn.neural_network import MLPRegressor"
      ],
      "metadata": {
        "id": "bx55UaiFueYc"
      },
      "execution_count": 60,
      "outputs": []
    },
    {
      "cell_type": "markdown",
      "source": [
        "# Carregamento do Dataset"
      ],
      "metadata": {
        "id": "f_DXu7qruzLD"
      }
    },
    {
      "cell_type": "code",
      "source": [
        "dataset = pd.read_csv(\"https://raw.githubusercontent.com/DenisCoutinho/Auto_MPG_RNA/bc2311bec122b820bfbc3db72694f1e6837a5d03/auto-mpg.csv\")"
      ],
      "metadata": {
        "id": "GIAyZtUtu2GW"
      },
      "execution_count": 61,
      "outputs": []
    },
    {
      "cell_type": "code",
      "source": [
        "dataset.head()"
      ],
      "metadata": {
        "colab": {
          "base_uri": "https://localhost:8080/",
          "height": 206
        },
        "id": "4dFC5-ltu7O-",
        "outputId": "ece7df74-2d91-482d-f22e-6160362bdd90"
      },
      "execution_count": 62,
      "outputs": [
        {
          "output_type": "execute_result",
          "data": {
            "text/plain": [
              "    mpg  cylinders  displacement horsepower  weight  acceleration  model year  \\\n",
              "0  18.0          8         307.0        130    3504          12.0          70   \n",
              "1  15.0          8         350.0        165    3693          11.5          70   \n",
              "2  18.0          8         318.0        150    3436          11.0          70   \n",
              "3  16.0          8         304.0        150    3433          12.0          70   \n",
              "4  17.0          8         302.0        140    3449          10.5          70   \n",
              "\n",
              "   origin                   car name  \n",
              "0       1  chevrolet chevelle malibu  \n",
              "1       1          buick skylark 320  \n",
              "2       1         plymouth satellite  \n",
              "3       1              amc rebel sst  \n",
              "4       1                ford torino  "
            ],
            "text/html": [
              "\n",
              "  <div id=\"df-1bdc7bf1-9e2f-4eb2-8d0c-dc6e5a31464e\">\n",
              "    <div class=\"colab-df-container\">\n",
              "      <div>\n",
              "<style scoped>\n",
              "    .dataframe tbody tr th:only-of-type {\n",
              "        vertical-align: middle;\n",
              "    }\n",
              "\n",
              "    .dataframe tbody tr th {\n",
              "        vertical-align: top;\n",
              "    }\n",
              "\n",
              "    .dataframe thead th {\n",
              "        text-align: right;\n",
              "    }\n",
              "</style>\n",
              "<table border=\"1\" class=\"dataframe\">\n",
              "  <thead>\n",
              "    <tr style=\"text-align: right;\">\n",
              "      <th></th>\n",
              "      <th>mpg</th>\n",
              "      <th>cylinders</th>\n",
              "      <th>displacement</th>\n",
              "      <th>horsepower</th>\n",
              "      <th>weight</th>\n",
              "      <th>acceleration</th>\n",
              "      <th>model year</th>\n",
              "      <th>origin</th>\n",
              "      <th>car name</th>\n",
              "    </tr>\n",
              "  </thead>\n",
              "  <tbody>\n",
              "    <tr>\n",
              "      <th>0</th>\n",
              "      <td>18.0</td>\n",
              "      <td>8</td>\n",
              "      <td>307.0</td>\n",
              "      <td>130</td>\n",
              "      <td>3504</td>\n",
              "      <td>12.0</td>\n",
              "      <td>70</td>\n",
              "      <td>1</td>\n",
              "      <td>chevrolet chevelle malibu</td>\n",
              "    </tr>\n",
              "    <tr>\n",
              "      <th>1</th>\n",
              "      <td>15.0</td>\n",
              "      <td>8</td>\n",
              "      <td>350.0</td>\n",
              "      <td>165</td>\n",
              "      <td>3693</td>\n",
              "      <td>11.5</td>\n",
              "      <td>70</td>\n",
              "      <td>1</td>\n",
              "      <td>buick skylark 320</td>\n",
              "    </tr>\n",
              "    <tr>\n",
              "      <th>2</th>\n",
              "      <td>18.0</td>\n",
              "      <td>8</td>\n",
              "      <td>318.0</td>\n",
              "      <td>150</td>\n",
              "      <td>3436</td>\n",
              "      <td>11.0</td>\n",
              "      <td>70</td>\n",
              "      <td>1</td>\n",
              "      <td>plymouth satellite</td>\n",
              "    </tr>\n",
              "    <tr>\n",
              "      <th>3</th>\n",
              "      <td>16.0</td>\n",
              "      <td>8</td>\n",
              "      <td>304.0</td>\n",
              "      <td>150</td>\n",
              "      <td>3433</td>\n",
              "      <td>12.0</td>\n",
              "      <td>70</td>\n",
              "      <td>1</td>\n",
              "      <td>amc rebel sst</td>\n",
              "    </tr>\n",
              "    <tr>\n",
              "      <th>4</th>\n",
              "      <td>17.0</td>\n",
              "      <td>8</td>\n",
              "      <td>302.0</td>\n",
              "      <td>140</td>\n",
              "      <td>3449</td>\n",
              "      <td>10.5</td>\n",
              "      <td>70</td>\n",
              "      <td>1</td>\n",
              "      <td>ford torino</td>\n",
              "    </tr>\n",
              "  </tbody>\n",
              "</table>\n",
              "</div>\n",
              "      <button class=\"colab-df-convert\" onclick=\"convertToInteractive('df-1bdc7bf1-9e2f-4eb2-8d0c-dc6e5a31464e')\"\n",
              "              title=\"Convert this dataframe to an interactive table.\"\n",
              "              style=\"display:none;\">\n",
              "        \n",
              "  <svg xmlns=\"http://www.w3.org/2000/svg\" height=\"24px\"viewBox=\"0 0 24 24\"\n",
              "       width=\"24px\">\n",
              "    <path d=\"M0 0h24v24H0V0z\" fill=\"none\"/>\n",
              "    <path d=\"M18.56 5.44l.94 2.06.94-2.06 2.06-.94-2.06-.94-.94-2.06-.94 2.06-2.06.94zm-11 1L8.5 8.5l.94-2.06 2.06-.94-2.06-.94L8.5 2.5l-.94 2.06-2.06.94zm10 10l.94 2.06.94-2.06 2.06-.94-2.06-.94-.94-2.06-.94 2.06-2.06.94z\"/><path d=\"M17.41 7.96l-1.37-1.37c-.4-.4-.92-.59-1.43-.59-.52 0-1.04.2-1.43.59L10.3 9.45l-7.72 7.72c-.78.78-.78 2.05 0 2.83L4 21.41c.39.39.9.59 1.41.59.51 0 1.02-.2 1.41-.59l7.78-7.78 2.81-2.81c.8-.78.8-2.07 0-2.86zM5.41 20L4 18.59l7.72-7.72 1.47 1.35L5.41 20z\"/>\n",
              "  </svg>\n",
              "      </button>\n",
              "      \n",
              "  <style>\n",
              "    .colab-df-container {\n",
              "      display:flex;\n",
              "      flex-wrap:wrap;\n",
              "      gap: 12px;\n",
              "    }\n",
              "\n",
              "    .colab-df-convert {\n",
              "      background-color: #E8F0FE;\n",
              "      border: none;\n",
              "      border-radius: 50%;\n",
              "      cursor: pointer;\n",
              "      display: none;\n",
              "      fill: #1967D2;\n",
              "      height: 32px;\n",
              "      padding: 0 0 0 0;\n",
              "      width: 32px;\n",
              "    }\n",
              "\n",
              "    .colab-df-convert:hover {\n",
              "      background-color: #E2EBFA;\n",
              "      box-shadow: 0px 1px 2px rgba(60, 64, 67, 0.3), 0px 1px 3px 1px rgba(60, 64, 67, 0.15);\n",
              "      fill: #174EA6;\n",
              "    }\n",
              "\n",
              "    [theme=dark] .colab-df-convert {\n",
              "      background-color: #3B4455;\n",
              "      fill: #D2E3FC;\n",
              "    }\n",
              "\n",
              "    [theme=dark] .colab-df-convert:hover {\n",
              "      background-color: #434B5C;\n",
              "      box-shadow: 0px 1px 3px 1px rgba(0, 0, 0, 0.15);\n",
              "      filter: drop-shadow(0px 1px 2px rgba(0, 0, 0, 0.3));\n",
              "      fill: #FFFFFF;\n",
              "    }\n",
              "  </style>\n",
              "\n",
              "      <script>\n",
              "        const buttonEl =\n",
              "          document.querySelector('#df-1bdc7bf1-9e2f-4eb2-8d0c-dc6e5a31464e button.colab-df-convert');\n",
              "        buttonEl.style.display =\n",
              "          google.colab.kernel.accessAllowed ? 'block' : 'none';\n",
              "\n",
              "        async function convertToInteractive(key) {\n",
              "          const element = document.querySelector('#df-1bdc7bf1-9e2f-4eb2-8d0c-dc6e5a31464e');\n",
              "          const dataTable =\n",
              "            await google.colab.kernel.invokeFunction('convertToInteractive',\n",
              "                                                     [key], {});\n",
              "          if (!dataTable) return;\n",
              "\n",
              "          const docLinkHtml = 'Like what you see? Visit the ' +\n",
              "            '<a target=\"_blank\" href=https://colab.research.google.com/notebooks/data_table.ipynb>data table notebook</a>'\n",
              "            + ' to learn more about interactive tables.';\n",
              "          element.innerHTML = '';\n",
              "          dataTable['output_type'] = 'display_data';\n",
              "          await google.colab.output.renderOutput(dataTable, element);\n",
              "          const docLink = document.createElement('div');\n",
              "          docLink.innerHTML = docLinkHtml;\n",
              "          element.appendChild(docLink);\n",
              "        }\n",
              "      </script>\n",
              "    </div>\n",
              "  </div>\n",
              "  "
            ]
          },
          "metadata": {},
          "execution_count": 62
        }
      ]
    },
    {
      "cell_type": "code",
      "source": [
        "plt.scatter(dataset[[\"weight\"]], dataset[[\"mpg\"]])\n",
        "plt.xlabel(\"Peso (libras)\")\n",
        "plt.ylabel(\"Autonomia (mpg)\")\n",
        "plt.title(\"Relação entre peso e autonomia dos veículos\")"
      ],
      "metadata": {
        "colab": {
          "base_uri": "https://localhost:8080/",
          "height": 312
        },
        "id": "qXtEKcruu-IP",
        "outputId": "a349c7fd-aea5-4f42-d968-f6476ae92098"
      },
      "execution_count": 63,
      "outputs": [
        {
          "output_type": "execute_result",
          "data": {
            "text/plain": [
              "Text(0.5, 1.0, 'Relação entre peso e autonomia dos veículos')"
            ]
          },
          "metadata": {},
          "execution_count": 63
        },
        {
          "output_type": "display_data",
          "data": {
            "text/plain": [
              "<Figure size 432x288 with 1 Axes>"
            ],
            "image/png": "[encoded data removed]"
          },
          "metadata": {
            "needs_background": "light"
          }
        }
      ]
    },
    {
      "cell_type": "markdown",
      "source": [
        "# Pré-processamento"
      ],
      "metadata": {
        "id": "Ls5TDjcVvLqF"
      }
    },
    {
      "cell_type": "code",
      "source": [
        "X = dataset[[\"weight\"]]\n",
        "Y = dataset[[\"mpg\"]]"
      ],
      "metadata": {
        "id": "Lizys1nfvMrH"
      },
      "execution_count": 64,
      "outputs": []
    },
    {
      "cell_type": "code",
      "source": [
        "# Conversão de Libras para Quilo e Milhas por galão para Quilômetros por litro\n",
        "X[\"weight\"] = X[\"weight\"] * 0.453592\n",
        "Y[\"mpg\"] = Y[\"mpg\"] * 0.425144"
      ],
      "metadata": {
        "colab": {
          "base_uri": "https://localhost:8080/"
        },
        "id": "D3IgrptIvPYg",
        "outputId": "682ec257-3462-47d5-ee2a-dc4a422557b2"
      },
      "execution_count": 65,
      "outputs": [
        {
          "output_type": "stream",
          "name": "stderr",
          "text": [
            "<ipython-input-65-445a3cd2ab15>:2: SettingWithCopyWarning: \n",
            "A value is trying to be set on a copy of a slice from a DataFrame.\n",
            "Try using .loc[row_indexer,col_indexer] = value instead\n",
            "\n",
            "See the caveats in the documentation: https://pandas.pydata.org/pandas-docs/stable/user_guide/indexing.html#returning-a-view-versus-a-copy\n",
            "  X[\"weight\"] = X[\"weight\"] * 0.453592\n",
            "<ipython-input-65-445a3cd2ab15>:3: SettingWithCopyWarning: \n",
            "A value is trying to be set on a copy of a slice from a DataFrame.\n",
            "Try using .loc[row_indexer,col_indexer] = value instead\n",
            "\n",
            "See the caveats in the documentation: https://pandas.pydata.org/pandas-docs/stable/user_guide/indexing.html#returning-a-view-versus-a-copy\n",
            "  Y[\"mpg\"] = Y[\"mpg\"] * 0.425144\n"
          ]
        }
      ]
    },
    {
      "cell_type": "code",
      "source": [
        "X"
      ],
      "metadata": {
        "colab": {
          "base_uri": "https://localhost:8080/",
          "height": 424
        },
        "id": "nl5uiBcyvUF4",
        "outputId": "685a279d-5145-4121-99c1-2cde321ee357"
      },
      "execution_count": 66,
      "outputs": [
        {
          "output_type": "execute_result",
          "data": {
            "text/plain": [
              "          weight\n",
              "0    1589.386368\n",
              "1    1675.115256\n",
              "2    1558.542112\n",
              "3    1557.181336\n",
              "4    1564.438808\n",
              "..           ...\n",
              "393  1265.521680\n",
              "394   966.150960\n",
              "395  1040.993640\n",
              "396  1190.679000\n",
              "397  1233.770240\n",
              "\n",
              "[398 rows x 1 columns]"
            ],
            "text/html": [
              "\n",
              "  <div id=\"df-66d351d8-ccdf-4e8e-9c0d-8e661ba2b835\">\n",
              "    <div class=\"colab-df-container\">\n",
              "      <div>\n",
              "<style scoped>\n",
              "    .dataframe tbody tr th:only-of-type {\n",
              "        vertical-align: middle;\n",
              "    }\n",
              "\n",
              "    .dataframe tbody tr th {\n",
              "        vertical-align: top;\n",
              "    }\n",
              "\n",
              "    .dataframe thead th {\n",
              "        text-align: right;\n",
              "    }\n",
              "</style>\n",
              "<table border=\"1\" class=\"dataframe\">\n",
              "  <thead>\n",
              "    <tr style=\"text-align: right;\">\n",
              "      <th></th>\n",
              "      <th>weight</th>\n",
              "    </tr>\n",
              "  </thead>\n",
              "  <tbody>\n",
              "    <tr>\n",
              "      <th>0</th>\n",
              "      <td>1589.386368</td>\n",
              "    </tr>\n",
              "    <tr>\n",
              "      <th>1</th>\n",
              "      <td>1675.115256</td>\n",
              "    </tr>\n",
              "    <tr>\n",
              "      <th>2</th>\n",
              "      <td>1558.542112</td>\n",
              "    </tr>\n",
              "    <tr>\n",
              "      <th>3</th>\n",
              "      <td>1557.181336</td>\n",
              "    </tr>\n",
              "    <tr>\n",
              "      <th>4</th>\n",
              "      <td>1564.438808</td>\n",
              "    </tr>\n",
              "    <tr>\n",
              "      <th>...</th>\n",
              "      <td>...</td>\n",
              "    </tr>\n",
              "    <tr>\n",
              "      <th>393</th>\n",
              "      <td>1265.521680</td>\n",
              "    </tr>\n",
              "    <tr>\n",
              "      <th>394</th>\n",
              "      <td>966.150960</td>\n",
              "    </tr>\n",
              "    <tr>\n",
              "      <th>395</th>\n",
              "      <td>1040.993640</td>\n",
              "    </tr>\n",
              "    <tr>\n",
              "      <th>396</th>\n",
              "      <td>1190.679000</td>\n",
              "    </tr>\n",
              "    <tr>\n",
              "      <th>397</th>\n",
              "      <td>1233.770240</td>\n",
              "    </tr>\n",
              "  </tbody>\n",
              "</table>\n",
              "<p>398 rows × 1 columns</p>\n",
              "</div>\n",
              "      <button class=\"colab-df-convert\" onclick=\"convertToInteractive('df-66d351d8-ccdf-4e8e-9c0d-8e661ba2b835')\"\n",
              "              title=\"Convert this dataframe to an interactive table.\"\n",
              "              style=\"display:none;\">\n",
              "        \n",
              "  <svg xmlns=\"http://www.w3.org/2000/svg\" height=\"24px\"viewBox=\"0 0 24 24\"\n",
              "       width=\"24px\">\n",
              "    <path d=\"M0 0h24v24H0V0z\" fill=\"none\"/>\n",
              "    <path d=\"M18.56 5.44l.94 2.06.94-2.06 2.06-.94-2.06-.94-.94-2.06-.94 2.06-2.06.94zm-11 1L8.5 8.5l.94-2.06 2.06-.94-2.06-.94L8.5 2.5l-.94 2.06-2.06.94zm10 10l.94 2.06.94-2.06 2.06-.94-2.06-.94-.94-2.06-.94 2.06-2.06.94z\"/><path d=\"M17.41 7.96l-1.37-1.37c-.4-.4-.92-.59-1.43-.59-.52 0-1.04.2-1.43.59L10.3 9.45l-7.72 7.72c-.78.78-.78 2.05 0 2.83L4 21.41c.39.39.9.59 1.41.59.51 0 1.02-.2 1.41-.59l7.78-7.78 2.81-2.81c.8-.78.8-2.07 0-2.86zM5.41 20L4 18.59l7.72-7.72 1.47 1.35L5.41 20z\"/>\n",
              "  </svg>\n",
              "      </button>\n",
              "      \n",
              "  <style>\n",
              "    .colab-df-container {\n",
              "      display:flex;\n",
              "      flex-wrap:wrap;\n",
              "      gap: 12px;\n",
              "    }\n",
              "\n",
              "    .colab-df-convert {\n",
              "      background-color: #E8F0FE;\n",
              "      border: none;\n",
              "      border-radius: 50%;\n",
              "      cursor: pointer;\n",
              "      display: none;\n",
              "      fill: #1967D2;\n",
              "      height: 32px;\n",
              "      padding: 0 0 0 0;\n",
              "      width: 32px;\n",
              "    }\n",
              "\n",
              "    .colab-df-convert:hover {\n",
              "      background-color: #E2EBFA;\n",
              "      box-shadow: 0px 1px 2px rgba(60, 64, 67, 0.3), 0px 1px 3px 1px rgba(60, 64, 67, 0.15);\n",
              "      fill: #174EA6;\n",
              "    }\n",
              "\n",
              "    [theme=dark] .colab-df-convert {\n",
              "      background-color: #3B4455;\n",
              "      fill: #D2E3FC;\n",
              "    }\n",
              "\n",
              "    [theme=dark] .colab-df-convert:hover {\n",
              "      background-color: #434B5C;\n",
              "      box-shadow: 0px 1px 3px 1px rgba(0, 0, 0, 0.15);\n",
              "      filter: drop-shadow(0px 1px 2px rgba(0, 0, 0, 0.3));\n",
              "      fill: #FFFFFF;\n",
              "    }\n",
              "  </style>\n",
              "\n",
              "      <script>\n",
              "        const buttonEl =\n",
              "          document.querySelector('#df-66d351d8-ccdf-4e8e-9c0d-8e661ba2b835 button.colab-df-convert');\n",
              "        buttonEl.style.display =\n",
              "          google.colab.kernel.accessAllowed ? 'block' : 'none';\n",
              "\n",
              "        async function convertToInteractive(key) {\n",
              "          const element = document.querySelector('#df-66d351d8-ccdf-4e8e-9c0d-8e661ba2b835');\n",
              "          const dataTable =\n",
              "            await google.colab.kernel.invokeFunction('convertToInteractive',\n",
              "                                                     [key], {});\n",
              "          if (!dataTable) return;\n",
              "\n",
              "          const docLinkHtml = 'Like what you see? Visit the ' +\n",
              "            '<a target=\"_blank\" href=https://colab.research.google.com/notebooks/data_table.ipynb>data table notebook</a>'\n",
              "            + ' to learn more about interactive tables.';\n",
              "          element.innerHTML = '';\n",
              "          dataTable['output_type'] = 'display_data';\n",
              "          await google.colab.output.renderOutput(dataTable, element);\n",
              "          const docLink = document.createElement('div');\n",
              "          docLink.innerHTML = docLinkHtml;\n",
              "          element.appendChild(docLink);\n",
              "        }\n",
              "      </script>\n",
              "    </div>\n",
              "  </div>\n",
              "  "
            ]
          },
          "metadata": {},
          "execution_count": 66
        }
      ]
    },
    {
      "cell_type": "code",
      "source": [
        "X.describe()"
      ],
      "metadata": {
        "colab": {
          "base_uri": "https://localhost:8080/",
          "height": 300
        },
        "id": "X6tRpyvkvUuZ",
        "outputId": "94161f7c-5aa2-4ec8-9735-6b0a3ae96cca"
      },
      "execution_count": 67,
      "outputs": [
        {
          "output_type": "execute_result",
          "data": {
            "text/plain": [
              "            weight\n",
              "count   398.000000\n",
              "mean   1347.360846\n",
              "std     384.120654\n",
              "min     731.643896\n",
              "25%    1008.675210\n",
              "50%    1271.645172\n",
              "75%    1636.559936\n",
              "max    2331.462880"
            ],
            "text/html": [
              "\n",
              "  <div id=\"df-8560eee6-2ff9-4701-ae8e-755ce1e7dd7e\">\n",
              "    <div class=\"colab-df-container\">\n",
              "      <div>\n",
              "<style scoped>\n",
              "    .dataframe tbody tr th:only-of-type {\n",
              "        vertical-align: middle;\n",
              "    }\n",
              "\n",
              "    .dataframe tbody tr th {\n",
              "        vertical-align: top;\n",
              "    }\n",
              "\n",
              "    .dataframe thead th {\n",
              "        text-align: right;\n",
              "    }\n",
              "</style>\n",
              "<table border=\"1\" class=\"dataframe\">\n",
              "  <thead>\n",
              "    <tr style=\"text-align: right;\">\n",
              "      <th></th>\n",
              "      <th>weight</th>\n",
              "    </tr>\n",
              "  </thead>\n",
              "  <tbody>\n",
              "    <tr>\n",
              "      <th>count</th>\n",
              "      <td>398.000000</td>\n",
              "    </tr>\n",
              "    <tr>\n",
              "      <th>mean</th>\n",
              "      <td>1347.360846</td>\n",
              "    </tr>\n",
              "    <tr>\n",
              "      <th>std</th>\n",
              "      <td>384.120654</td>\n",
              "    </tr>\n",
              "    <tr>\n",
              "      <th>min</th>\n",
              "      <td>731.643896</td>\n",
              "    </tr>\n",
              "    <tr>\n",
              "      <th>25%</th>\n",
              "      <td>1008.675210</td>\n",
              "    </tr>\n",
              "    <tr>\n",
              "      <th>50%</th>\n",
              "      <td>1271.645172</td>\n",
              "    </tr>\n",
              "    <tr>\n",
              "      <th>75%</th>\n",
              "      <td>1636.559936</td>\n",
              "    </tr>\n",
              "    <tr>\n",
              "      <th>max</th>\n",
              "      <td>2331.462880</td>\n",
              "    </tr>\n",
              "  </tbody>\n",
              "</table>\n",
              "</div>\n",
              "      <button class=\"colab-df-convert\" onclick=\"convertToInteractive('df-8560eee6-2ff9-4701-ae8e-755ce1e7dd7e')\"\n",
              "              title=\"Convert this dataframe to an interactive table.\"\n",
              "              style=\"display:none;\">\n",
              "        \n",
              "  <svg xmlns=\"http://www.w3.org/2000/svg\" height=\"24px\"viewBox=\"0 0 24 24\"\n",
              "       width=\"24px\">\n",
              "    <path d=\"M0 0h24v24H0V0z\" fill=\"none\"/>\n",
              "    <path d=\"M18.56 5.44l.94 2.06.94-2.06 2.06-.94-2.06-.94-.94-2.06-.94 2.06-2.06.94zm-11 1L8.5 8.5l.94-2.06 2.06-.94-2.06-.94L8.5 2.5l-.94 2.06-2.06.94zm10 10l.94 2.06.94-2.06 2.06-.94-2.06-.94-.94-2.06-.94 2.06-2.06.94z\"/><path d=\"M17.41 7.96l-1.37-1.37c-.4-.4-.92-.59-1.43-.59-.52 0-1.04.2-1.43.59L10.3 9.45l-7.72 7.72c-.78.78-.78 2.05 0 2.83L4 21.41c.39.39.9.59 1.41.59.51 0 1.02-.2 1.41-.59l7.78-7.78 2.81-2.81c.8-.78.8-2.07 0-2.86zM5.41 20L4 18.59l7.72-7.72 1.47 1.35L5.41 20z\"/>\n",
              "  </svg>\n",
              "      </button>\n",
              "      \n",
              "  <style>\n",
              "    .colab-df-container {\n",
              "      display:flex;\n",
              "      flex-wrap:wrap;\n",
              "      gap: 12px;\n",
              "    }\n",
              "\n",
              "    .colab-df-convert {\n",
              "      background-color: #E8F0FE;\n",
              "      border: none;\n",
              "      border-radius: 50%;\n",
              "      cursor: pointer;\n",
              "      display: none;\n",
              "      fill: #1967D2;\n",
              "      height: 32px;\n",
              "      padding: 0 0 0 0;\n",
              "      width: 32px;\n",
              "    }\n",
              "\n",
              "    .colab-df-convert:hover {\n",
              "      background-color: #E2EBFA;\n",
              "      box-shadow: 0px 1px 2px rgba(60, 64, 67, 0.3), 0px 1px 3px 1px rgba(60, 64, 67, 0.15);\n",
              "      fill: #174EA6;\n",
              "    }\n",
              "\n",
              "    [theme=dark] .colab-df-convert {\n",
              "      background-color: #3B4455;\n",
              "      fill: #D2E3FC;\n",
              "    }\n",
              "\n",
              "    [theme=dark] .colab-df-convert:hover {\n",
              "      background-color: #434B5C;\n",
              "      box-shadow: 0px 1px 3px 1px rgba(0, 0, 0, 0.15);\n",
              "      filter: drop-shadow(0px 1px 2px rgba(0, 0, 0, 0.3));\n",
              "      fill: #FFFFFF;\n",
              "    }\n",
              "  </style>\n",
              "\n",
              "      <script>\n",
              "        const buttonEl =\n",
              "          document.querySelector('#df-8560eee6-2ff9-4701-ae8e-755ce1e7dd7e button.colab-df-convert');\n",
              "        buttonEl.style.display =\n",
              "          google.colab.kernel.accessAllowed ? 'block' : 'none';\n",
              "\n",
              "        async function convertToInteractive(key) {\n",
              "          const element = document.querySelector('#df-8560eee6-2ff9-4701-ae8e-755ce1e7dd7e');\n",
              "          const dataTable =\n",
              "            await google.colab.kernel.invokeFunction('convertToInteractive',\n",
              "                                                     [key], {});\n",
              "          if (!dataTable) return;\n",
              "\n",
              "          const docLinkHtml = 'Like what you see? Visit the ' +\n",
              "            '<a target=\"_blank\" href=https://colab.research.google.com/notebooks/data_table.ipynb>data table notebook</a>'\n",
              "            + ' to learn more about interactive tables.';\n",
              "          element.innerHTML = '';\n",
              "          dataTable['output_type'] = 'display_data';\n",
              "          await google.colab.output.renderOutput(dataTable, element);\n",
              "          const docLink = document.createElement('div');\n",
              "          docLink.innerHTML = docLinkHtml;\n",
              "          element.appendChild(docLink);\n",
              "        }\n",
              "      </script>\n",
              "    </div>\n",
              "  </div>\n",
              "  "
            ]
          },
          "metadata": {},
          "execution_count": 67
        }
      ]
    },
    {
      "cell_type": "code",
      "source": [
        "# Normalização\n",
        "escala = StandardScaler()\n",
        "escala.fit(X)\n",
        "\n",
        "X_norm = escala.transform(X)"
      ],
      "metadata": {
        "id": "TQmwPfRav1h7"
      },
      "execution_count": 68,
      "outputs": []
    },
    {
      "cell_type": "code",
      "source": [
        "# Dividindo em conjunto de treinamento e teste\n",
        "X_norm_train, X_norm_test, Y_train, Y_test = train_test_split(X_norm, Y, test_size=0.3)"
      ],
      "metadata": {
        "id": "bbQBUbutwNdE"
      },
      "execution_count": 69,
      "outputs": []
    },
    {
      "cell_type": "markdown",
      "source": [
        "# Processamento"
      ],
      "metadata": {
        "id": "BGVdNxv9wQn8"
      }
    },
    {
      "cell_type": "code",
      "source": [
        "rna = MLPRegressor(hidden_layer_sizes=(10, 5), \n",
        "                   max_iter=2000,\n",
        "                   tol=0.0000001,\n",
        "                   learning_rate_init=0.1,\n",
        "                   solver=\"sgd\",\n",
        "                   activation=\"logistic\",\n",
        "                   learning_rate=\"constant\",\n",
        "                   verbose=2)"
      ],
      "metadata": {
        "id": "x2jB2a7WwTZ0"
      },
      "execution_count": 70,
      "outputs": []
    },
    {
      "cell_type": "code",
      "source": [
        "rna.fit(X_norm_train, Y_train)"
      ],
      "metadata": {
        "colab": {
          "base_uri": "https://localhost:8080/"
        },
        "id": "AbYKJABBwXUF",
        "outputId": "8ab82b07-7c52-4b97-cb26-29160fdd5051"
      },
      "execution_count": 71,
      "outputs": [
        {
          "output_type": "stream",
          "name": "stderr",
          "text": [
            "/usr/local/lib/python3.8/dist-packages/sklearn/neural_network/_multilayer_perceptron.py:1599: DataConversionWarning: A column-vector y was passed when a 1d array was expected. Please change the shape of y to (n_samples, ), for example using ravel().\n",
            "  y = column_or_1d(y, warn=True)\n"
          ]
        },
        {
          "output_type": "stream",
          "name": "stdout",
          "text": [
            "Iteration 1, loss = 44.15331026\n",
            "Iteration 2, loss = 8.35097097\n",
            "Iteration 3, loss = 6.23678750\n",
            "Iteration 4, loss = 4.99743409\n",
            "Iteration 5, loss = 4.69624831\n",
            "Iteration 6, loss = 4.07681740\n",
            "Iteration 7, loss = 3.22569163\n",
            "Iteration 8, loss = 2.45602765\n",
            "Iteration 9, loss = 1.92685983\n",
            "Iteration 10, loss = 1.68611194\n",
            "Iteration 11, loss = 1.61726949\n",
            "Iteration 12, loss = 1.62174331\n",
            "Iteration 13, loss = 1.67501161\n",
            "Iteration 14, loss = 1.69360735\n",
            "Iteration 15, loss = 1.68951827\n",
            "Iteration 16, loss = 1.65582576\n",
            "Iteration 17, loss = 1.64644486\n",
            "Iteration 18, loss = 1.65481757\n",
            "Iteration 19, loss = 1.65061193\n",
            "Iteration 20, loss = 1.65292830\n",
            "Iteration 21, loss = 1.63421172\n",
            "Iteration 22, loss = 1.60545060\n",
            "Iteration 23, loss = 1.59042141\n",
            "Iteration 24, loss = 1.56426131\n",
            "Iteration 25, loss = 1.54836775\n",
            "Iteration 26, loss = 1.54105094\n",
            "Iteration 27, loss = 1.51124375\n",
            "Iteration 28, loss = 1.50101560\n",
            "Iteration 29, loss = 1.48497784\n",
            "Iteration 30, loss = 1.47289515\n",
            "Iteration 31, loss = 1.45604919\n",
            "Iteration 32, loss = 1.44917271\n",
            "Iteration 33, loss = 1.44268675\n",
            "Iteration 34, loss = 1.43233229\n",
            "Iteration 35, loss = 1.42118896\n",
            "Iteration 36, loss = 1.41024168\n",
            "Iteration 37, loss = 1.40748704\n",
            "Iteration 38, loss = 1.39670140\n",
            "Iteration 39, loss = 1.38447864\n",
            "Iteration 40, loss = 1.38231267\n",
            "Iteration 41, loss = 1.38100992\n",
            "Iteration 42, loss = 1.37005898\n",
            "Iteration 43, loss = 1.37772676\n",
            "Iteration 44, loss = 1.35731338\n",
            "Iteration 45, loss = 1.36483910\n",
            "Iteration 46, loss = 1.36266958\n",
            "Iteration 47, loss = 1.38982529\n",
            "Iteration 48, loss = 1.36492823\n",
            "Iteration 49, loss = 1.34406703\n",
            "Iteration 50, loss = 1.37191836\n",
            "Iteration 51, loss = 1.35029161\n",
            "Iteration 52, loss = 1.34417637\n",
            "Iteration 53, loss = 1.34103711\n",
            "Iteration 54, loss = 1.33943968\n",
            "Iteration 55, loss = 1.33370478\n",
            "Iteration 56, loss = 1.33701850\n",
            "Iteration 57, loss = 1.34958590\n",
            "Iteration 58, loss = 1.32752603\n",
            "Iteration 59, loss = 1.33893682\n",
            "Iteration 60, loss = 1.32394161\n",
            "Iteration 61, loss = 1.32791253\n",
            "Iteration 62, loss = 1.33465106\n",
            "Iteration 63, loss = 1.32067647\n",
            "Iteration 64, loss = 1.32625363\n",
            "Iteration 65, loss = 1.32808716\n",
            "Iteration 66, loss = 1.31725868\n",
            "Iteration 67, loss = 1.32260301\n",
            "Iteration 68, loss = 1.32228254\n",
            "Iteration 69, loss = 1.33556653\n",
            "Iteration 70, loss = 1.31889637\n",
            "Iteration 71, loss = 1.33116387\n",
            "Iteration 72, loss = 1.31661374\n",
            "Iteration 73, loss = 1.32618831\n",
            "Iteration 74, loss = 1.31880438\n",
            "Iteration 75, loss = 1.31476690\n",
            "Iteration 76, loss = 1.31259589\n",
            "Iteration 77, loss = 1.32065518\n",
            "Iteration 78, loss = 1.33248961\n",
            "Iteration 79, loss = 1.32299854\n",
            "Iteration 80, loss = 1.32567991\n",
            "Iteration 81, loss = 1.32495337\n",
            "Iteration 82, loss = 1.32042996\n",
            "Iteration 83, loss = 1.31191714\n",
            "Iteration 84, loss = 1.31270487\n",
            "Iteration 85, loss = 1.31196389\n",
            "Iteration 86, loss = 1.31256634\n",
            "Iteration 87, loss = 1.31818271\n",
            "Iteration 88, loss = 1.31416229\n",
            "Iteration 89, loss = 1.31917446\n",
            "Iteration 90, loss = 1.31567196\n",
            "Iteration 91, loss = 1.31374666\n",
            "Iteration 92, loss = 1.32050808\n",
            "Iteration 93, loss = 1.32581806\n",
            "Iteration 94, loss = 1.32484946\n",
            "Training loss did not improve more than tol=0.000000 for 10 consecutive epochs. Stopping.\n"
          ]
        },
        {
          "output_type": "execute_result",
          "data": {
            "text/plain": [
              "MLPRegressor(activation='logistic', hidden_layer_sizes=(10, 5),\n",
              "             learning_rate_init=0.1, max_iter=2000, solver='sgd', tol=1e-07,\n",
              "             verbose=2)"
            ]
          },
          "metadata": {},
          "execution_count": 71
        }
      ]
    },
    {
      "cell_type": "code",
      "source": [
        "reglinear = SGDRegressor(max_iter=2000,\n",
        "                         tol=0.0000001,\n",
        "                         eta0=0.1,\n",
        "                         learning_rate=\"constant\",\n",
        "                         verbose=2)"
      ],
      "metadata": {
        "id": "bPc1dSvdwZN1"
      },
      "execution_count": 72,
      "outputs": []
    },
    {
      "cell_type": "code",
      "source": [
        "reglinear.fit(X_norm_train,Y_train)"
      ],
      "metadata": {
        "colab": {
          "base_uri": "https://localhost:8080/"
        },
        "id": "f9J3X_y5wbI1",
        "outputId": "a1b1485c-b2fb-49ff-f6fc-6f63a6711d2f"
      },
      "execution_count": 73,
      "outputs": [
        {
          "output_type": "stream",
          "name": "stdout",
          "text": [
            "-- Epoch 1\n",
            "Norm: 2.23, NNZs: 1, Bias: 9.564140, T: 278, Avg. loss: 2.858412\n",
            "Total training time: 0.00 seconds.\n",
            "-- Epoch 2\n",
            "Norm: 3.03, NNZs: 1, Bias: 9.977831, T: 556, Avg. loss: 1.589190\n",
            "Total training time: 0.00 seconds.\n",
            "-- Epoch 3\n",
            "Norm: 3.26, NNZs: 1, Bias: 10.310603, T: 834, Avg. loss: 1.587056\n",
            "Total training time: 0.00 seconds.\n",
            "-- Epoch 4\n",
            "Norm: 3.77, NNZs: 1, Bias: 10.191730, T: 1112, Avg. loss: 1.583901\n",
            "Total training time: 0.00 seconds.\n",
            "-- Epoch 5\n",
            "Norm: 2.83, NNZs: 1, Bias: 9.803734, T: 1390, Avg. loss: 1.661251\n",
            "Total training time: 0.00 seconds.\n",
            "-- Epoch 6\n",
            "Norm: 3.02, NNZs: 1, Bias: 10.076852, T: 1668, Avg. loss: 1.660579\n",
            "Total training time: 0.00 seconds.\n",
            "-- Epoch 7\n",
            "Norm: 2.73, NNZs: 1, Bias: 10.470614, T: 1946, Avg. loss: 1.649663\n",
            "Total training time: 0.00 seconds.\n",
            "-- Epoch 8\n",
            "Norm: 3.58, NNZs: 1, Bias: 10.551859, T: 2224, Avg. loss: 1.621880\n",
            "Total training time: 0.00 seconds.\n",
            "-- Epoch 9\n",
            "Norm: 2.84, NNZs: 1, Bias: 10.538244, T: 2502, Avg. loss: 1.667712\n",
            "Total training time: 0.00 seconds.\n",
            "Convergence after 9 epochs took 0.00 seconds\n"
          ]
        },
        {
          "output_type": "stream",
          "name": "stderr",
          "text": [
            "/usr/local/lib/python3.8/dist-packages/sklearn/utils/validation.py:993: DataConversionWarning: A column-vector y was passed when a 1d array was expected. Please change the shape of y to (n_samples, ), for example using ravel().\n",
            "  y = column_or_1d(y, warn=True)\n"
          ]
        },
        {
          "output_type": "execute_result",
          "data": {
            "text/plain": [
              "SGDRegressor(eta0=0.1, learning_rate='constant', max_iter=2000, tol=1e-07,\n",
              "             verbose=2)"
            ]
          },
          "metadata": {},
          "execution_count": 73
        }
      ]
    },
    {
      "cell_type": "markdown",
      "source": [
        "# Pós-processamento"
      ],
      "metadata": {
        "id": "ChDcTy9uJtGD"
      }
    },
    {
      "cell_type": "code",
      "source": [
        "# Previsão do conjunto de teste\n",
        "Y_rna_previsao = rna.predict(X_norm_test)\n",
        "Y_rl_previsao = reglinear.predict(X_norm_test)"
      ],
      "metadata": {
        "id": "EO6q4aP3Jw8L"
      },
      "execution_count": 74,
      "outputs": []
    },
    {
      "cell_type": "code",
      "source": [
        "# Calcula o R²\n",
        "r2_rna = r2_score(Y_test, Y_rna_previsao)\n",
        "r2_rl = r2_score(Y_test, Y_rl_previsao)\n",
        "\n",
        "print(\"R2 RNA:\", r2_rna)\n",
        "print(\"R2 RL:\", r2_rl)"
      ],
      "metadata": {
        "colab": {
          "base_uri": "https://localhost:8080/"
        },
        "id": "mTl3jHAyKQ8c",
        "outputId": "38929053-8630-4ecc-f02e-ba952b5dd787"
      },
      "execution_count": 75,
      "outputs": [
        {
          "output_type": "stream",
          "name": "stdout",
          "text": [
            "R2 RNA: 0.6122465476051753\n",
            "R2 RL: 0.5711558014235285\n"
          ]
        }
      ]
    },
    {
      "cell_type": "code",
      "source": [
        "X_test = escala.inverse_transform(X_norm_test)\n",
        "\n",
        "plt.scatter(X_test, Y_test, alpha=0.5, label=\"Reais\")\n",
        "plt.scatter(X_test, Y_rna_previsao, alpha=0.5, label=\"MLP\")\n",
        "plt.scatter(X_test, Y_rl_previsao, alpha=0.5, label=\"Reg Linear\")\n",
        "plt.xlabel(\"Peso (em Kg)\")\n",
        "plt.ylabel(\"Automata (em km/l)\")\n",
        "plt.title(\"Comparação dos algoritmos previstos\")\n",
        "plt.legend(loc=1)"
      ],
      "metadata": {
        "colab": {
          "base_uri": "https://localhost:8080/",
          "height": 312
        },
        "id": "cnUsOKSGLztk",
        "outputId": "49458000-7047-4771-e9a8-7e7726c6c79e"
      },
      "execution_count": 76,
      "outputs": [
        {
          "output_type": "execute_result",
          "data": {
            "text/plain": [
              "<matplotlib.legend.Legend at 0x7fb214e438e0>"
            ]
          },
          "metadata": {},
          "execution_count": 76
        },
        {
          "output_type": "display_data",
          "data": {
            "text/plain": [
              "<Figure size 432x288 with 1 Axes>"
            ],
            "image/png": "[encoded data removed]"
          },
          "metadata": {
            "needs_background": "light"
          }
        }
      ]
    },
    {
      "cell_type": "code",
      "source": [
        "# Prever para um novo dado\n",
        "\n",
        "X_futuro = np.array([[1250]])\n",
        "X_futuro_norm = escala.transform(X_futuro.T)"
      ],
      "metadata": {
        "colab": {
          "base_uri": "https://localhost:8080/"
        },
        "id": "mRugPQNJPufk",
        "outputId": "f2fe71a9-134c-47b6-d6f2-10c9932690b6"
      },
      "execution_count": 77,
      "outputs": [
        {
          "output_type": "stream",
          "name": "stderr",
          "text": [
            "/usr/local/lib/python3.8/dist-packages/sklearn/base.py:450: UserWarning: X does not have valid feature names, but StandardScaler was fitted with feature names\n",
            "  warnings.warn(\n"
          ]
        }
      ]
    },
    {
      "cell_type": "code",
      "source": [
        "y_rna_prev_futuro = rna.predict(X_futuro_norm)\n",
        "y_reglinear_prev_futuro = reglinear.predict(X_futuro_norm)"
      ],
      "metadata": {
        "id": "2vYb4nJtQ_zI"
      },
      "execution_count": 78,
      "outputs": []
    },
    {
      "cell_type": "code",
      "source": [
        "print(\"RNA:\", y_rna_prev_futuro)\n",
        "print(\"Reg Linear:\", y_reglinear_prev_futuro)"
      ],
      "metadata": {
        "colab": {
          "base_uri": "https://localhost:8080/"
        },
        "id": "-2FLIjxARpCH",
        "outputId": "b4a3ac81-d4f6-4f3b-f919-3b20ad262eac"
      },
      "execution_count": 80,
      "outputs": [
        {
          "output_type": "stream",
          "name": "stdout",
          "text": [
            "RNA: [10.13527309]\n",
            "Reg Linear: [11.25835826]\n"
          ]
        }
      ]
    },
    {
      "cell_type": "code",
      "source": [
        "plt.scatter(X, Y, label=\"Real\")\n",
        "plt.scatter(X_futuro, y_rna_prev_futuro, label=\"MLP\")\n",
        "plt.scatter(X_futuro, y_reglinear_prev_futuro, label=\"Reg Linear\")\n",
        "plt.legend(loc=1)"
      ],
      "metadata": {
        "colab": {
          "base_uri": "https://localhost:8080/",
          "height": 282
        },
        "id": "hFTsmZA6SJNt",
        "outputId": "22f611fb-f56b-4274-edf7-2dcf1c813741"
      },
      "execution_count": 83,
      "outputs": [
        {
          "output_type": "execute_result",
          "data": {
            "text/plain": [
              "<matplotlib.legend.Legend at 0x7fb2152949a0>"
            ]
          },
          "metadata": {},
          "execution_count": 83
        },
        {
          "output_type": "display_data",
          "data": {
            "text/plain": [
              "<Figure size 432x288 with 1 Axes>"
            ],
            "image/png": "[encoded data removed]"
          },
          "metadata": {
            "needs_background": "light"
          }
        }
      ]
    }
  ]
}